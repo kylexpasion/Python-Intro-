{
  "nbformat": 4,
  "nbformat_minor": 0,
  "metadata": {
    "colab": {
      "provenance": [],
      "authorship_tag": "ABX9TyMiiRJzYkkJvA50wawG8N8m",
      "include_colab_link": true
    },
    "kernelspec": {
      "name": "python3",
      "display_name": "Python 3"
    },
    "language_info": {
      "name": "python"
    }
  },
  "cells": [
    {
      "cell_type": "markdown",
      "metadata": {
        "id": "view-in-github",
        "colab_type": "text"
      },
      "source": [
        "<a href=\"https://colab.research.google.com/github/kylexpasion/Python-Intro-/blob/main/ListCreator.ipynb\" target=\"_parent\"><img src=\"https://colab.research.google.com/assets/colab-badge.svg\" alt=\"Open In Colab\"/></a>"
      ]
    },
    {
      "cell_type": "code",
      "execution_count": null,
      "metadata": {
        "id": "QW6ih_eJj1k-"
      },
      "outputs": [],
      "source": [
        "\n",
        "list = []\n",
        "x = int(input('Input an integer to be added to the list: '))\n",
        "\n",
        "while x != 0:\n",
        "  list.append(x)\n",
        "  print(list,end='\\n')\n",
        "  x = int(input('Input an integer to be added to the list: '))\n",
        "\n",
        "if x == 0:\n",
        "  print(\"Game over.\")"
      ]
    }
  ]
}