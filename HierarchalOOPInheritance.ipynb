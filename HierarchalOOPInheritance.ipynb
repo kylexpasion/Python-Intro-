{
  "nbformat": 4,
  "nbformat_minor": 0,
  "metadata": {
    "colab": {
      "provenance": [],
      "include_colab_link": true
    },
    "kernelspec": {
      "name": "python3",
      "display_name": "Python 3"
    },
    "language_info": {
      "name": "python"
    }
  },
  "cells": [
    {
      "cell_type": "markdown",
      "metadata": {
        "id": "view-in-github",
        "colab_type": "text"
      },
      "source": [
        "<a href=\"https://colab.research.google.com/github/kylexpasion/Python-Intro-/blob/main/HierarchalOOPInheritance.ipynb\" target=\"_parent\"><img src=\"https://colab.research.google.com/assets/colab-badge.svg\" alt=\"Open In Colab\"/></a>"
      ]
    },
    {
      "cell_type": "code",
      "execution_count": null,
      "metadata": {
        "id": "tWa182IN-3Y8"
      },
      "outputs": [],
      "source": [
        "class Animal:\n",
        "  def __init__(self):\n",
        "    print('Animal created')\n",
        "  def whoAmI(self):\n",
        "    print('I am an animal')\n",
        "\n",
        "class Bird(Animal):\n",
        "  def fly(self): # No need to recreate a constructor here (you may need to expand constructor in other circumstances) because class Bird inherits class Animal's constructors.\n",
        "    print('Birds can fly')\n",
        "\n",
        "a = Animal()\n",
        "b = Bird()\n",
        "\n",
        "a.fly() # Inheritance is a one-way process"
      ]
    },
    {
      "cell_type": "code",
      "source": [
        "# Now, let's add class-specific attributes\n",
        "\n",
        "class Animal:\n",
        "  def __init__(self,legs):\n",
        "    print('Animal created')\n",
        "    self.legs = legs\n",
        "  def whoAmI(self):\n",
        "    print('I am an animal')\n",
        "\n",
        "class Bird(Animal):\n",
        "  def __init__(self, legs, wings):\n",
        "    print('Bird created')\n",
        "    super().__init__(legs)\n",
        "    self.wings = wings\n",
        "  def fly(self): # No need to recreate a constructor here (you may need to expand constructor in other circumstances) because class Bird inherits class Animal's constructors.\n",
        "    print('Birds can fly')\n",
        "\n",
        "a = Animal(4)\n",
        "b = Bird(2,2)"
      ],
      "metadata": {
        "colab": {
          "base_uri": "https://localhost:8080/"
        },
        "id": "KyJ0UylWA4N8",
        "outputId": "e0065def-e2b6-46cb-997c-e84b1a623dbd"
      },
      "execution_count": null,
      "outputs": [
        {
          "output_type": "stream",
          "name": "stdout",
          "text": [
            "Animal created\n",
            "Bird created\n",
            "Animal created\n"
          ]
        }
      ]
    }
  ]
}