{
  "nbformat": 4,
  "nbformat_minor": 0,
  "metadata": {
    "colab": {
      "provenance": [],
      "authorship_tag": "ABX9TyOOsbE1JeooibUp6YIhlIQH",
      "include_colab_link": true
    },
    "kernelspec": {
      "name": "python3",
      "display_name": "Python 3"
    },
    "language_info": {
      "name": "python"
    }
  },
  "cells": [
    {
      "cell_type": "markdown",
      "metadata": {
        "id": "view-in-github",
        "colab_type": "text"
      },
      "source": [
        "<a href=\"https://colab.research.google.com/github/kylexpasion/Python-Intro-/blob/main/Date_Assignment.ipynb\" target=\"_parent\"><img src=\"https://colab.research.google.com/assets/colab-badge.svg\" alt=\"Open In Colab\"/></a>"
      ]
    },
    {
      "cell_type": "code",
      "execution_count": 3,
      "metadata": {
        "colab": {
          "base_uri": "https://localhost:8080/"
        },
        "id": "0XHiPNr4wZi0",
        "outputId": "f264b116-202b-45fe-f11d-5de557903319"
      },
      "outputs": [
        {
          "output_type": "stream",
          "name": "stdout",
          "text": [
            "Enter Date (MM/DD/YYYY)\n",
            "Enter Date: 02/21/2024\n",
            "02\n",
            "21\n",
            "2024\n"
          ]
        }
      ],
      "source": [
        "print(\"Enter Date (MM/DD/YYYY)\" )\n",
        "date = input(\"Enter Date: \")\n",
        "month = date[0:2]\n",
        "day = date [3:5]\n",
        "year = date[6:10]\n",
        "print(month)\n",
        "print(day)\n",
        "print(year)\n",
        "\n",
        "\n",
        "\n",
        "\n",
        "\n",
        "\n",
        "\n",
        "\n"
      ]
    }
  ]
}