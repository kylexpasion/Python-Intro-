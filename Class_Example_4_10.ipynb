{
  "nbformat": 4,
  "nbformat_minor": 0,
  "metadata": {
    "colab": {
      "provenance": [],
      "authorship_tag": "ABX9TyPCvXY2Y36J95XgUHEFmGyG",
      "include_colab_link": true
    },
    "kernelspec": {
      "name": "python3",
      "display_name": "Python 3"
    },
    "language_info": {
      "name": "python"
    }
  },
  "cells": [
    {
      "cell_type": "markdown",
      "metadata": {
        "id": "view-in-github",
        "colab_type": "text"
      },
      "source": [
        "<a href=\"https://colab.research.google.com/github/kylexpasion/Python-Intro-/blob/main/Class_Example_4_10.ipynb\" target=\"_parent\"><img src=\"https://colab.research.google.com/assets/colab-badge.svg\" alt=\"Open In Colab\"/></a>"
      ]
    },
    {
      "cell_type": "code",
      "execution_count": 18,
      "metadata": {
        "colab": {
          "base_uri": "https://localhost:8080/"
        },
        "id": "RXuz6jJ12Y60",
        "outputId": "651dd3e7-9a9c-4a3c-dde0-eee5688d37c6"
      },
      "outputs": [
        {
          "output_type": "stream",
          "name": "stdout",
          "text": [
            "List is empty!\n"
          ]
        },
        {
          "output_type": "execute_result",
          "data": {
            "text/plain": [
              "[]"
            ]
          },
          "metadata": {},
          "execution_count": 18
        }
      ],
      "source": [
        "def avg(alist):\n",
        "  try:\n",
        "    return sum(alist) / len(alist)\n",
        "  except ZeroDivisionError:\n",
        "    print(\"List is empty!\")\n",
        "    return []\n",
        "  except TypeError:\n",
        "    print(\"List has to be numeric only\")\n",
        "    return float('nan')\n",
        "\n",
        "\n",
        "\n",
        "\n",
        "avg([])\n",
        "\n"
      ]
    }
  ]
}