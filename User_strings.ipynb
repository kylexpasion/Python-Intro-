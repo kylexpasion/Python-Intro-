{
  "nbformat": 4,
  "nbformat_minor": 0,
  "metadata": {
    "colab": {
      "provenance": [],
      "authorship_tag": "ABX9TyPE9k5d5oHLuSJfRgFxFx0B",
      "include_colab_link": true
    },
    "kernelspec": {
      "name": "python3",
      "display_name": "Python 3"
    },
    "language_info": {
      "name": "python"
    }
  },
  "cells": [
    {
      "cell_type": "markdown",
      "metadata": {
        "id": "view-in-github",
        "colab_type": "text"
      },
      "source": [
        "<a href=\"https://colab.research.google.com/github/kylexpasion/Python-Intro-/blob/main/User_strings.ipynb\" target=\"_parent\"><img src=\"https://colab.research.google.com/assets/colab-badge.svg\" alt=\"Open In Colab\"/></a>"
      ]
    },
    {
      "cell_type": "code",
      "execution_count": null,
      "metadata": {
        "colab": {
          "base_uri": "https://localhost:8080/"
        },
        "id": "CN6aEAdh1fpi",
        "outputId": "bcb5a8de-e250-4373-d819-cccf29c64512"
      },
      "outputs": [
        {
          "output_type": "stream",
          "name": "stdout",
          "text": [
            "Enter a value: 100\n",
            "Enter a value: 50\n",
            "Enter a value: 400\n",
            "Enter a value: 0\n",
            "[100, 50, 400]\n"
          ]
        }
      ],
      "source": [
        "list = []\n",
        "\n",
        "number = int(input(\"Enter a value: \"))\n",
        "\n",
        "while number != 0:\n",
        "  list.append(number)\n",
        "  number = int(input(\"Enter a value: \"))\n",
        "\n",
        "print(list)"
      ]
    }
  ]
}