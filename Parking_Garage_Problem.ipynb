{
  "nbformat": 4,
  "nbformat_minor": 0,
  "metadata": {
    "colab": {
      "provenance": [],
      "include_colab_link": true
    },
    "kernelspec": {
      "name": "python3",
      "display_name": "Python 3"
    },
    "language_info": {
      "name": "python"
    }
  },
  "cells": [
    {
      "cell_type": "markdown",
      "metadata": {
        "id": "view-in-github",
        "colab_type": "text"
      },
      "source": [
        "<a href=\"https://colab.research.google.com/github/kylexpasion/Python-Intro-/blob/main/Parking_Garage_Problem.ipynb\" target=\"_parent\"><img src=\"https://colab.research.google.com/assets/colab-badge.svg\" alt=\"Open In Colab\"/></a>"
      ]
    },
    {
      "cell_type": "code",
      "execution_count": null,
      "metadata": {
        "id": "LdDWCTVkmXSr",
        "colab": {
          "base_uri": "https://localhost:8080/"
        },
        "outputId": "0a064f16-2dba-46b5-a83c-1e2a70f02fb2"
      },
      "outputs": [
        {
          "output_type": "stream",
          "name": "stdout",
          "text": [
            "1 10.0\n",
            "2 10.0\n",
            "3 12.5\n",
            "4 15.0\n",
            "5 17.5\n",
            "6 20.0\n",
            "7 20.0\n",
            "8 20.0\n"
          ]
        }
      ],
      "source": [
        "corresponding_fee = 2.50\n",
        "x = range(1,9,1)\n",
        "for i in x:\n",
        "  parking_fee = 5 + (corresponding_fee * i)\n",
        "  if parking_fee <= 10:\n",
        "    parking_fee = 10.0\n",
        "  if parking_fee >= 20.0:\n",
        "    parking_fee = 20.0\n",
        "  print(i, parking_fee)\n",
        "\n",
        "\n",
        "\n",
        "\n"
      ]
    }
  ]
}