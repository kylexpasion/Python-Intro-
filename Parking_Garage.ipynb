{
  "nbformat": 4,
  "nbformat_minor": 0,
  "metadata": {
    "colab": {
      "provenance": [],
      "authorship_tag": "ABX9TyPcwW1WCc/USU9K3LUMn6/3",
      "include_colab_link": true
    },
    "kernelspec": {
      "name": "python3",
      "display_name": "Python 3"
    },
    "language_info": {
      "name": "python"
    }
  },
  "cells": [
    {
      "cell_type": "markdown",
      "metadata": {
        "id": "view-in-github",
        "colab_type": "text"
      },
      "source": [
        "<a href=\"https://colab.research.google.com/github/kylexpasion/Python-Intro-/blob/main/Parking_Garage.ipynb\" target=\"_parent\"><img src=\"https://colab.research.google.com/assets/colab-badge.svg\" alt=\"Open In Colab\"/></a>"
      ]
    },
    {
      "cell_type": "code",
      "execution_count": null,
      "metadata": {
        "colab": {
          "base_uri": "https://localhost:8080/"
        },
        "id": "Zk0Ytowfvp7k",
        "outputId": "2efb83bf-459e-4a19-ecc6-7d317799f035"
      },
      "outputs": [
        {
          "output_type": "stream",
          "name": "stdout",
          "text": [
            "How many hours do you wish to park? 6\n",
            "Total fee: $15.0\n"
          ]
        }
      ],
      "source": [
        "def getParkingHours():\n",
        "  hours = int(input(\"How many hours do you wish to park? \"))\n",
        "  return hours\n",
        "\n",
        "def calcParkingFee(h):\n",
        "  fee = 2.5 * h\n",
        "  if fee<=6:\n",
        "    return 6\n",
        "  elif fee>=20:\n",
        "    return 20\n",
        "  else:\n",
        "    return fee\n",
        "\n",
        "hours = getParkingHours()\n",
        "fee = calcParkingFee(hours)\n",
        "print(f'Total fee: ${fee}')\n"
      ]
    }
  ]
}