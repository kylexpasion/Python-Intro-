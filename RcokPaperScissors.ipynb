{
  "nbformat": 4,
  "nbformat_minor": 0,
  "metadata": {
    "colab": {
      "provenance": [],
      "authorship_tag": "ABX9TyMhvbLD0kZnMRQCVovoj7rn",
      "include_colab_link": true
    },
    "kernelspec": {
      "name": "python3",
      "display_name": "Python 3"
    },
    "language_info": {
      "name": "python"
    }
  },
  "cells": [
    {
      "cell_type": "markdown",
      "metadata": {
        "id": "view-in-github",
        "colab_type": "text"
      },
      "source": [
        "<a href=\"https://colab.research.google.com/github/kylexpasion/Python-Intro-/blob/main/RcokPaperScissors.ipynb\" target=\"_parent\"><img src=\"https://colab.research.google.com/assets/colab-badge.svg\" alt=\"Open In Colab\"/></a>"
      ]
    },
    {
      "cell_type": "code",
      "execution_count": null,
      "metadata": {
        "id": "HhtAGNXglZ4D"
      },
      "outputs": [],
      "source": [
        "import random\n",
        "userinput = input(\"Do you want to play the game? Y/N: \")\n",
        "while userinput == \"Y\":\n",
        "  pc_choice = random.choice(['rock','paper','scissors'])\n",
        "  user_choice = input('Choose one: rock, paper, or scissors. ')\n",
        "  if pc_choice == user_choice:\n",
        "    print(f'Draw. Computer chose {pc_choice}.')\n",
        "  elif pc_choice == 'rock' and user_choice == 'paper' or pc_choice == 'paper' and user_choice == 'scissors' or pc_choice == 'scissors' and user_choice == 'rock':\n",
        "    print(f'User wins! Computer chose {pc_choice}.')\n",
        "  elif user_choice == 'rock' and pc_choice == 'paper' or pc_choice == 'scissors' and user_choice == 'paper' or user_choice == 'scissors' and pc_choice == 'rock':\n",
        "    print(f'Computer wins! Computer chose {pc_choice}.')\n",
        "  userinput = input(\"Play again? Y/N: \")"
      ]
    }
  ]
}